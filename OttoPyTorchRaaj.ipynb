{
  "cells": [
    {
      "metadata": {
        "_uuid": "8f2839f25d086af736a60e9eeb907d3b93b6e0e5",
        "_cell_guid": "b1076dfc-b9ad-4769-8c92-a6c4dae69d19",
        "trusted": true
      },
      "cell_type": "code",
      "source": "# This Python 3 environment comes with many helpful analytics libraries installed\n# It is defined by the kaggle/python docker image: https://github.com/kaggle/docker-python\n# For example, here's several helpful packages to load in \n\nimport numpy as np # linear algebra\nimport pandas as pd # data processing, CSV file I/O (e.g. pd.read_csv)\n\n# Input data files are available in the \"../input/\" directory.\n# For example, running this (by clicking run or pressing Shift+Enter) will list the files in the input directory\n\nimport os\nprint(os.listdir(\"../input\"))\n\n# Any results you write to the current directory are saved as output.",
      "execution_count": null,
      "outputs": []
    },
    {
      "metadata": {
        "_uuid": "5a3e1db4219e07d88ca18d8c036a9f2de8247cfc"
      },
      "cell_type": "markdown",
      "source": "**This is a very simple implementation of a basic neural network <br>\nin Pytorch to predict class probabilities of the Otto dataset <br>**"
    },
    {
      "metadata": {
        "_cell_guid": "79c7e3d0-c299-4dcb-8224-4455121ee9b0",
        "_uuid": "d629ff2d2480ee46fbb7e2d37f6b5fab8052498a",
        "trusted": true
      },
      "cell_type": "code",
      "source": "from __future__ import print_function\nimport torch\nimport torch.nn as nn\nimport torch.nn.functional as F\nimport torch.optim as optim\nfrom torch.autograd import Variable\nfrom torchvision import datasets,transforms\nfrom torch.utils.data import Dataset,DataLoader",
      "execution_count": null,
      "outputs": []
    },
    {
      "metadata": {
        "trusted": true,
        "scrolled": true,
        "_uuid": "336d73ad2ea8e27519e5fc9a19b36b44bbd1ab5d"
      },
      "cell_type": "code",
      "source": "import pandas as pd",
      "execution_count": null,
      "outputs": []
    },
    {
      "metadata": {
        "_uuid": "3b468defb0d7310eb30daefacf4e567eb37f26db"
      },
      "cell_type": "markdown",
      "source": "Creating a dataset class which inherits\nfrom *Dataset* "
    },
    {
      "metadata": {
        "_uuid": "eda095f14c95141d2934dffd04ee01e0b6549b2b"
      },
      "cell_type": "markdown",
      "source": "****need to preprocess and change class1 to 1 and so on"
    },
    {
      "metadata": {
        "trusted": true,
        "_uuid": "880658178283dea82a31667273eeac1332612e0d"
      },
      "cell_type": "code",
      "source": "class OttoDataset(Dataset):\n    def __init__(self):\n        xy = np.loadtxt('../input/train.csv',delimiter=',',skiprows = 1, usecols = np.arange(1,94))\n        df = pd.read_csv('../input/train.csv', sep = ',')\n        df['target'] =  df['target'].map({'Class_1': 1, 'Class_2': 2,\n                                          'Class_3': 3, 'Class_4': 4,\n                                          'Class_5': 5, 'Class_6': 6,\n                                          'Class_7': 7, 'Class_8': 8,\n                                          'Class_9': 9})\n        df['target'] = df['target'].astype('float64')\n        self.len = xy.shape[0]\n        self.x_data = torch.from_numpy(xy[:,:])\n        self.y_data = torch.tensor(df['target'].values)\n\n    def __getitem__(self, index):\n        return self.x_data[index], self.y_data[index]\n\n    def __len__(self):\n        return self.len",
      "execution_count": null,
      "outputs": []
    },
    {
      "metadata": {
        "trusted": true,
        "_uuid": "ab47b2f4b655b4fe3cff92491375adf028cb889f"
      },
      "cell_type": "code",
      "source": "dataset = OttoDataset()\n",
      "execution_count": null,
      "outputs": []
    },
    {
      "metadata": {
        "trusted": true,
        "_uuid": "e49c162326707931179278a4431e7b7d309fb8fc"
      },
      "cell_type": "code",
      "source": "train_loader = DataLoader(dataset=dataset,\n                          batch_size=32,\n                          shuffle=True,\n                          num_workers=2)",
      "execution_count": null,
      "outputs": []
    },
    {
      "metadata": {
        "_uuid": "4270b24e762587ef0eeb26d103c1a04ff839e242"
      },
      "cell_type": "markdown",
      "source": "A simple NN architecture\n93->46->18->9\nThere are 9 classes in the dataset"
    },
    {
      "metadata": {
        "trusted": true,
        "_uuid": "109a30f7ff9868b8ea115de8548646b7f0d67717"
      },
      "cell_type": "code",
      "source": "class Net(nn.Module):\n    def __init__(self):\n        super(Net,self).__init__()\n        self.l1 = nn.Linear(93, 46)\n        self.l2 = nn.Linear(46,18)\n        self.l3 = nn.Linear(18,9)\n    def forward(self,x):\n        x = F.relu(self.l1(x))\n        x = F.relu(self.l2(x))\n        return self.l3(x)",
      "execution_count": null,
      "outputs": []
    },
    {
      "metadata": {
        "trusted": true,
        "_uuid": "81a9c832fc7d33c9c58d45573bf4c3cb97970e85"
      },
      "cell_type": "code",
      "source": "model = Net()",
      "execution_count": null,
      "outputs": []
    },
    {
      "metadata": {
        "trusted": true,
        "_uuid": "6f4591b711f10b7fc1711971b41c21601d812c8d"
      },
      "cell_type": "code",
      "source": "criterion = nn.CrossEntropyLoss()\noptimizer = optim.SGD(model.parameters(), lr=0.01, momentum=0.5)",
      "execution_count": null,
      "outputs": []
    },
    {
      "metadata": {
        "trusted": true,
        "_uuid": "20c1eb6ed5ec1cbb9fe45b03fe8892c80bab00df",
        "scrolled": false
      },
      "cell_type": "code",
      "source": "loss = 1000\nfor epoch in range(10):\n    model.train()\n    for batch_idx, (data,target) in enumerate(train_loader):\n        data, target = Variable(data).float(),Variable(target).type(torch.LongTensor)\n        optimizer.zero_grad()\n        output = model(data)\n        loss = criterion(output, target-1)\n        loss.backward()\n        optimizer.step()",
      "execution_count": null,
      "outputs": []
    },
    {
      "metadata": {
        "trusted": true,
        "_uuid": "b3cfa752926c19eced673bd02480962ef3d94934"
      },
      "cell_type": "code",
      "source": "model.eval()",
      "execution_count": null,
      "outputs": []
    },
    {
      "metadata": {
        "trusted": true,
        "_uuid": "bb4b3d7e55bd167df0f379d6e210cbb82d632505"
      },
      "cell_type": "code",
      "source": "xyTest = np.loadtxt('../input/test.csv',delimiter=',',skiprows = 1, usecols = np.arange(1,94))",
      "execution_count": null,
      "outputs": []
    },
    {
      "metadata": {
        "trusted": true,
        "_uuid": "ac37f2dda7f6ed6763d24d5b60e6f5edcb65a6cb"
      },
      "cell_type": "code",
      "source": "df1 = pd.read_csv('../input/test.csv',sep=',')",
      "execution_count": null,
      "outputs": []
    },
    {
      "metadata": {
        "trusted": true,
        "_uuid": "ebafbe3e4a657515cebb2bc21029c754eaf138eb"
      },
      "cell_type": "code",
      "source": "xy_pred = torch.from_numpy(xyTest[:,:])",
      "execution_count": null,
      "outputs": []
    },
    {
      "metadata": {
        "trusted": true,
        "_uuid": "906e59153f4288ee27cd5ddba02e7ddf6d10a5f5"
      },
      "cell_type": "code",
      "source": "type(xy_pred)",
      "execution_count": null,
      "outputs": []
    },
    {
      "metadata": {
        "trusted": true,
        "_uuid": "98827dea5ebefcefa9b2b4959fc54fe052c0f199"
      },
      "cell_type": "code",
      "source": "id_col = df1['id']\nclass_list = ['id','Class_1','Class_2','Class_3','Class_4','Class_5',\n             'Class_6','Class_7','Class_8','Class_9']\nclass_list2 = ['Class_1','Class_2','Class_3','Class_4','Class_5',\n             'Class_6','Class_7','Class_8','Class_9']\nd = pd.DataFrame(0, index=np.arange(xy_pred.shape[0]), columns=class_list)\nd['id'] = df1['id']",
      "execution_count": null,
      "outputs": []
    },
    {
      "metadata": {
        "trusted": true,
        "_uuid": "755dba18520c07a63883d58aed142406f6e9767d"
      },
      "cell_type": "code",
      "source": "d[class_list2] = d[class_list2].astype('float')",
      "execution_count": null,
      "outputs": []
    },
    {
      "metadata": {
        "trusted": true,
        "_uuid": "c7c0e849d3a9f4afa2c37f700aee7a90340bce22"
      },
      "cell_type": "code",
      "source": "d.dtypes",
      "execution_count": null,
      "outputs": []
    },
    {
      "metadata": {
        "trusted": true,
        "_uuid": "5826cb5adea72ab965334002565ca6aac2d109d9"
      },
      "cell_type": "code",
      "source": "d.head()",
      "execution_count": null,
      "outputs": []
    },
    {
      "metadata": {
        "trusted": true,
        "_uuid": "e6b8714f8cb242c83e048725b93f1de298dcded1"
      },
      "cell_type": "code",
      "source": "classify = 'Class_'\n#print(df1.iloc[2,1:])\nfor i in range(xy_pred.shape[0]):\n    output = model(Variable(xy_pred[i]).float())\n    row = F.softmax(output).data\n    classes = row.numpy()\n    classes = np.around(classes, decimals=1)\n    print(type(classes))\n    print(classes)\n    d.loc[i,1:] = classes",
      "execution_count": null,
      "outputs": []
    },
    {
      "metadata": {
        "trusted": true,
        "_uuid": "2fd9be3e4d97c80ef166348c63a121c47d1c0097",
        "scrolled": true
      },
      "cell_type": "code",
      "source": "d.head()",
      "execution_count": null,
      "outputs": []
    },
    {
      "metadata": {
        "trusted": true,
        "_uuid": "02fd7f98d528f653166ca365b6095875a83d9f8a"
      },
      "cell_type": "code",
      "source": "d.to_csv('submission1.csv',index = False)",
      "execution_count": null,
      "outputs": []
    },
    {
      "metadata": {
        "trusted": true,
        "_uuid": "08da8e10fc2cf5bd2afa2d4954f857570d9137ae"
      },
      "cell_type": "code",
      "source": "",
      "execution_count": null,
      "outputs": []
    },
    {
      "metadata": {
        "trusted": true,
        "_uuid": "f4d580f30abfbc3d9d2d453e1584c2cf934ae2de"
      },
      "cell_type": "code",
      "source": "",
      "execution_count": null,
      "outputs": []
    },
    {
      "metadata": {
        "trusted": true,
        "_uuid": "c738a11686197bc9268a68db5a5896b260c84c45"
      },
      "cell_type": "code",
      "source": "",
      "execution_count": null,
      "outputs": []
    },
    {
      "metadata": {
        "trusted": true,
        "_uuid": "7b25b460b5dd0003950c3c0125602c594fac3f4d"
      },
      "cell_type": "code",
      "source": "",
      "execution_count": null,
      "outputs": []
    },
    {
      "metadata": {
        "trusted": true,
        "_uuid": "4f4aedb65e392b7a2fc69b4b6e6731d07bf77d71"
      },
      "cell_type": "code",
      "source": "",
      "execution_count": null,
      "outputs": []
    },
    {
      "metadata": {
        "trusted": true,
        "_uuid": "71fc132c7c7d29c60b85eaff66002b98f5855f91"
      },
      "cell_type": "code",
      "source": "",
      "execution_count": null,
      "outputs": []
    },
    {
      "metadata": {
        "trusted": true,
        "_uuid": "df23515cde92822db65e71c534e25d82ebf1d44c"
      },
      "cell_type": "code",
      "source": "",
      "execution_count": null,
      "outputs": []
    },
    {
      "metadata": {
        "trusted": true,
        "_uuid": "cc114405709ab77dabd2d16d4722930166acff95"
      },
      "cell_type": "code",
      "source": "",
      "execution_count": null,
      "outputs": []
    }
  ],
  "metadata": {
    "kernelspec": {
      "display_name": "Python 3",
      "language": "python",
      "name": "python3"
    },
    "language_info": {
      "name": "python",
      "version": "3.6.6",
      "mimetype": "text/x-python",
      "codemirror_mode": {
        "name": "ipython",
        "version": 3
      },
      "pygments_lexer": "ipython3",
      "nbconvert_exporter": "python",
      "file_extension": ".py"
    }
  },
  "nbformat": 4,
  "nbformat_minor": 1
}